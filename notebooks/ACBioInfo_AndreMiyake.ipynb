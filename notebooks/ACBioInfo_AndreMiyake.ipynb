{
 "cells": [
  {
   "cell_type": "markdown",
   "id": "8b86f52c",
   "metadata": {},
   "source": [
    "### **Atividade Complementar de Bioinformática**\n",
    "#### André Nakano Miyake - Caso 2\n",
    "\n",
    "Comecei configurando o ambiente, instalando todas as bibliotecas necessárias num ambiente WSL Ubuntu. \n",
    "> Descrição: Paciente lactente bebê, sexo masculino, 6 meses, apresentada na consulta de pediatria geneticista devido a triagem neonatal alterada evidenciando níveis elevados de fenilalanina e atraso incipiente no desenvolvimento neuropsicomotor.\n",
    "\n",
    "> Procedimento: Painel genético específico para análise de variantes no gene PAH, realizado a partir de amostra de sangue.\n",
    "\n",
    "> Objetivo: Identificar variantes genéticas responsáveis pela fenilcetonúria (PKU), fornecendo base para diagnóstico precoce e orientações terapêuticas individualizadas para prevenção de complicações neurológicas.\n"
   ]
  },
  {
   "cell_type": "markdown",
   "id": "09311f3c",
   "metadata": {},
   "source": [
    "#### 1. Controle de qualidade"
   ]
  },
  {
   "cell_type": "code",
   "execution_count": null,
   "id": "eb25d719",
   "metadata": {},
   "outputs": [],
   "source": [
    "%%bash\n",
    "# Gerando o relatório da qualidade dos reads de sequenciamento\n",
    "fastqc -o ../fastqc/ ../raw/caso2-sindrome-metabolica_R1.fastq.gz ../raw/caso2-sindrome-metabolica_R2.fastq.gz"
   ]
  },
  {
   "cell_type": "code",
   "execution_count": null,
   "id": "69cfd449",
   "metadata": {},
   "outputs": [],
   "source": [
    "%%bash\n",
    "# Filtrar sequências muito pequenas (-m 90) e cortar as pontas\n",
    "cutadapt \\\n",
    "  -u 5 -U 5 \\\n",
    "  -u -5 -U -5 \\\n",
    "  -m 90 \\\n",
    "  -o ../cutadapt/caso2-sindrome-metabolica-trimmed_R1.fastq.gz \\\n",
    "  -p ../cutadapt/caso2-sindrome-metabolica-trimmed_R2.fastq.gz \\\n",
    "  ../raw/caso2-sindrome-metabolica_R1.fastq.gz \\\n",
    "  ../raw/caso2-sindrome-metabolica_R2.fastq.gz"
   ]
  },
  {
   "cell_type": "code",
   "execution_count": null,
   "id": "bf326adb",
   "metadata": {},
   "outputs": [],
   "source": [
    "%%bash\n",
    "# Gerando o relatório da qualidade dos reads de sequenciamento, novamente, após o corte\n",
    "fastqc -o ../fastqc/ ../cutadapt/caso2-sindrome-metabolica-trimmed_R1.fastq.gz ../cutadapt/caso2-sindrome-metabolica-trimmed_R2.fastq.gz"
   ]
  },
  {
   "cell_type": "markdown",
   "id": "c1487fec",
   "metadata": {},
   "source": [
    "Ao analisar os HTMLs, notei que a qualidade ainda estava ruim, mas decidi prosseguir com os arquivos que tenho para seguir com o fluxo da atividade. A primeira imagem da esquerda é o original sem cutadapt, e a segunda da direita é a após o corte do cutadapt.\n",
    "\n",
    "<img src=\"download.png\" width=\"500\" alt=\"Not trimmed\"> <img src=\"download-1.png\" width=\"500\" alt=\"Trimmed\"> \n"
   ]
  },
  {
   "cell_type": "markdown",
   "id": "f4fc3c0e",
   "metadata": {},
   "source": [
    "#### 2. Mapeamento com a referência do genoma humano"
   ]
  },
  {
   "cell_type": "code",
   "execution_count": null,
   "id": "2a1c7efc",
   "metadata": {},
   "outputs": [],
   "source": [
    "%%bash\n",
    "# Indexando o genoma de referência (Chr12) para o BWA e Samtools\n",
    "samtools faidx ../reference/Chr12-reference.fasta\n",
    "bwa index ../reference/Chr12-reference.fasta"
   ]
  },
  {
   "cell_type": "code",
   "execution_count": null,
   "id": "c948bd83",
   "metadata": {},
   "outputs": [],
   "source": [
    "%%bash\n",
    "# O 'bwa mem' lê os arquivos .gz e a referência, e 'samtools sort' recebe a saída de arquivo sam e cria o arquivo .bam\n",
    "bwa mem ../reference/Chr12-reference.fasta \\\n",
    "  -R '@RG\\tID:caso2\\tSM:caso2\\tPL:ILLUMINA\\tLB:lib1\\tPU:unit1' \\\n",
    "  ../cutadapt/caso2-sindrome-metabolica-trimmed_R1.fastq.gz \\\n",
    "  ../cutadapt/caso2-sindrome-metabolica-trimmed_R2.fastq.gz \\\n",
    "  | samtools sort -o ../bwa/caso2-sindrome-metabolica-mapped-host.bam"
   ]
  },
  {
   "cell_type": "code",
   "execution_count": null,
   "id": "03cbf978",
   "metadata": {},
   "outputs": [],
   "source": [
    "%%bash\n",
    "# Cria um arquivo .bai na mesma pasta do BAM (../bwa/)\n",
    "samtools index ../bwa/caso2-sindrome-metabolica-mapped-host.bam"
   ]
  },
  {
   "cell_type": "markdown",
   "id": "8689a809",
   "metadata": {},
   "source": [
    "Abrindo o arquivos no IGV, foi possível identificar gaps, mismatches e mutações. No entanto, houveram apenas duas mutações significativas que ocorreram em éxons. A localização dessas bases mutadas são '102852923' e '102894918'. A primeira é uma base A com vários missmatches com uma base G da leitura.\n",
    "\n",
    "<img src=\"image (1).png\" width=\"500\"> <img src=\"image.png\" width=\"500\">"
   ]
  },
  {
   "cell_type": "markdown",
   "id": "d29a2e8c",
   "metadata": {},
   "source": [
    "#### 3. Chamada de variantes"
   ]
  },
  {
   "cell_type": "code",
   "execution_count": null,
   "id": "100fb266",
   "metadata": {},
   "outputs": [],
   "source": [
    "%%bash\n",
    "# Indexar a referência e BAM para chamada de variantes com GATK, o samtools dict cria o arquivo .dict que o GATK precisa\n",
    "samtools dict ../reference/Chr12-reference.fasta > ../reference/Chr12-reference.dict\n",
    "samtools index ../bwa/caso2-sindrome-metabolica-mapped-host.bam"
   ]
  },
  {
   "cell_type": "code",
   "execution_count": null,
   "id": "5188c077",
   "metadata": {},
   "outputs": [],
   "source": [
    "%%bash\n",
    "# Chamada de variantes com GATK\n",
    "gatk HaplotypeCaller \\\n",
    "  -R ../reference/Chr12-reference.fasta \\\n",
    "  -I ../bwa/caso2-sindrome-metabolica-mapped-host.bam \\\n",
    "  -O ../gatk/caso2-sindrome-metabolica-host-variants.vcf"
   ]
  },
  {
   "cell_type": "markdown",
   "id": "8228aea1",
   "metadata": {},
   "source": [
    "Analisando o arquivo .vcf, os alelos de interesse são os '102852923' e '102894918', previamente identificados. As frequências alélicas de ambos é de 0.5 , isso significa que são variantes heterozigóticas, e portanto a mutação é de alelo dominante (já que é expressa mesmo em heterozigose)."
   ]
  },
  {
   "cell_type": "markdown",
   "id": "2dc7b8c2",
   "metadata": {},
   "source": [
    "#### 4. Anotação de variantes"
   ]
  },
  {
   "cell_type": "code",
   "execution_count": null,
   "id": "1e42d8a2",
   "metadata": {},
   "outputs": [],
   "source": [
    "%%bash\n",
    "# script oficial baixa cache do genoma humano (GRCh38)\n",
    "vep_install -a cf -s homo_sapiens -y GRCh38 --NO_UPDATE"
   ]
  },
  {
   "cell_type": "code",
   "execution_count": null,
   "id": "7be159b7",
   "metadata": {},
   "outputs": [],
   "source": [
    "%%bash\n",
    "# Index arquivos vcf para anotação\n",
    "bgzip ../gatk/caso2-sindrome-metabolica-host-variants.vcf\n",
    "tabix -p vcf ../gatk/caso2-sindrome-metabolica-host-variants.vcf.gz"
   ]
  },
  {
   "cell_type": "code",
   "execution_count": null,
   "id": "d04a81cd",
   "metadata": {},
   "outputs": [],
   "source": [
    "%%bash\n",
    "# Executa a anotação VEP\n",
    "vep -i ../gatk/caso2-sindrome-metabolica-host-variants.vcf.gz \\\n",
    "    --output_file ../vep/caso2-sindrome-metabolica-host-variants.vep.tsv \\\n",
    "    --tab --force_overwrite \\\n",
    "    --offline --cache --dir_cache ~/.vep \\\n",
    "    --assembly GRCh38 \\\n",
    "    --symbol --hgvs --canonical --af_1kg --max_af \\\n",
    "    --everything --pick \\\n",
    "    --stats_file ../vep/caso2-sindrome-metabolica-host-variants.vep.html"
   ]
  },
  {
   "cell_type": "markdown",
   "id": "a0f9989b",
   "metadata": {},
   "source": [
    "Analisando o arquivo .tsv, observamos com mais atenção as linhas 150 e 152 (localização '102852923' e '102894918', respectivamente). O primeiro tem predição de impacto provavelmente danosa (1), e tem significância clínica patogênica. O segundo tem predição de impacto benigna (0,003), e tem significância clínica de classificação incerta (VUS)."
   ]
  }
 ],
 "metadata": {
  "kernelspec": {
   "display_name": "base",
   "language": "python",
   "name": "python3"
  },
  "language_info": {
   "codemirror_mode": {
    "name": "ipython",
    "version": 3
   },
   "file_extension": ".py",
   "mimetype": "text/x-python",
   "name": "python",
   "nbconvert_exporter": "python",
   "pygments_lexer": "ipython3",
   "version": "3.12.3"
  }
 },
 "nbformat": 4,
 "nbformat_minor": 5
}
